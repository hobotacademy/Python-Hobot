{
 "cells": [
  {
   "cell_type": "markdown",
   "id": "992e1138-1a54-4a79-88ea-67e06c85e401",
   "metadata": {},
   "source": [
    "<div style=\"text-align: center;\">\n",
    "    <img src=\"https://media.licdn.com/dms/image/v2/D4E0BAQE4bCQaEBYDUQ/company-logo_200_200/company-logo_200_200/0/1728590235264/hobotacademy_logo?e=1738195200&v=beta&t=0DiMS1wnJYE6nkBjL237Lh3mTm8GKEy_s65hG_yiTSs\" alt=\"Hobot Academy Logo\" width=\"200\"/>\n",
    "</div>\n",
    "\n",
    "<h1 style=\"text-align: center;\">Python</h1>\n",
    "<h2 style=\"text-align: center;\">RegEX, Text Preprocessing</h2>\n",
    "<h3 style=\"text-align: center;\">Part01</h3>\n",
    "<h3 style=\"text-align: center;\">Zahra Amini</h3>\n",
    "\n",
    "<div style=\"width: 100%; text-align: center;\">\n",
    "    <table style=\"margin: 0 auto;\">\n",
    "        <tr>\n",
    "            <td>\n",
    "                <a href=\"https://t.me/hobotacademy\">Telegram</a><br>\n",
    "                <a href=\"https://www.linkedin.com/company/hobotacademy\">LinkedIn</a><br>\n",
    "                <a href=\"https://www.youtube.com/@AcademyHobot\">YouTube</a><br>\n",
    "            </td>\n",
    "            <td>\n",
    "                <a href=\"https://github.com/hobotacademy\">GitHub</a><br>\n",
    "                <a href=\"https://www.kaggle.com/aminizahra\">Kaggle</a><br>\n",
    "                <a href=\"https://www.instagram.com/hobot.academy/\">Instagram</a><br>\n",
    "            </td>\n",
    "        </t>\n",
    "    </table>\n",
    "</div>\n",
    "    </table>\n",
    "</div>\n",
    "    </table>\n",
    "</div>"
   ]
  },
  {
   "cell_type": "markdown",
   "id": "a2c473ba-618f-40ae-baed-cbc6e76d698e",
   "metadata": {},
   "source": [
    "# 1. Basic Commands"
   ]
  },
  {
   "cell_type": "markdown",
   "id": "7a68f927-1676-4c11-8c4a-9ccb0632fd74",
   "metadata": {},
   "source": [
    "## 1.1. Importing the library"
   ]
  },
  {
   "cell_type": "code",
   "execution_count": 4,
   "id": "32f7f31d-ad3b-4b8b-9551-3a7789905957",
   "metadata": {},
   "outputs": [],
   "source": [
    "import re"
   ]
  },
  {
   "cell_type": "markdown",
   "id": "23309765-83b2-4758-ad09-c3c5749132ff",
   "metadata": {},
   "source": [
    "### 1.2. `re.search()`: Find the first occurrence of a pattern in text"
   ]
  },
  {
   "cell_type": "markdown",
   "id": "11ed078c-a015-410d-811e-13d329e21caa",
   "metadata": {},
   "source": [
    "#### 💠Finding the first number in a text"
   ]
  },
  {
   "cell_type": "code",
   "execution_count": 7,
   "id": "f58fb7ff-3dad-4da9-ad0b-5233bfd4e940",
   "metadata": {},
   "outputs": [
    {
     "name": "stdout",
     "output_type": "stream",
     "text": [
      "15\n",
      "Found number: 15\n"
     ]
    }
   ],
   "source": [
    "# Text where we want to find the first number\n",
    "text = \"There are 15 apples\"\n",
    "\n",
    "# to find the first number pattern\n",
    "result = re.search(r\"\\d+\", text)\n",
    "\n",
    "print(result.group())\n",
    "\n",
    "# Displaying the result if found, otherwise showing 'No match'\n",
    "if result:\n",
    "    print(\"Found number:\", result.group())\n",
    "else:\n",
    "    print(\"No match found\")"
   ]
  },
  {
   "cell_type": "markdown",
   "id": "019f7f6e-340e-4c2f-aa1b-2b2ac355e4d7",
   "metadata": {},
   "source": [
    "<div style=\"background-color: #dafbe1; border-left: 5px solid #34c759; padding: 10px;\">\r\n",
    "The pattern <code>r\"\\d+\"</code> is used to find one or more consecutive digits. Here><br>\r\n",
    "<code>\\d</code> represents any digit (0-9).<br>\r\n",
    "<code>+</code> indicates that there must be at least one or more occurrences of digits for a match.<br><br>\r\n",
    "So, this pattern will match any sequence of one or more digits in the text, like \"123,\" \"42,\" or \"7.\"\r\n",
    "</div>\r\n"
   ]
  },
  {
   "cell_type": "markdown",
   "id": "315b5d97-5658-455e-b4c3-38755b7e8e15",
   "metadata": {},
   "source": [
    "#### 💠Finding a word with a capital letter at the beginning"
   ]
  },
  {
   "cell_type": "code",
   "execution_count": 10,
   "id": "c91bc5dc-ed24-41a2-b1b8-a2233a9d8737",
   "metadata": {},
   "outputs": [
    {
     "name": "stdout",
     "output_type": "stream",
     "text": [
      "Found word: Learning\n"
     ]
    }
   ],
   "source": [
    "# Text to find the first capitalized word\n",
    "text = \"Learning regex is fun\"\n",
    "\n",
    "# Using re.search() to find the first word that starts with an uppercase letter\n",
    "result = re.search(r\"[A-Z]\\w+\", text)\n",
    "\n",
    "# Displaying the result if found\n",
    "if result:\n",
    "    print(\"Found word:\", result.group())"
   ]
  },
  {
   "cell_type": "markdown",
   "id": "cb2b5046-6d28-44db-af93-62507137253b",
   "metadata": {},
   "source": [
    "### 1.3. `re.match()`: Check if a pattern matches the beginning of the text"
   ]
  },
  {
   "cell_type": "markdown",
   "id": "84b08c1c-5b5a-4a7c-b5e8-06e37cea557e",
   "metadata": {},
   "source": [
    "#### 💠Checking if a sentence starts with a specific word"
   ]
  },
  {
   "cell_type": "code",
   "execution_count": 13,
   "id": "28ede721-3eb5-4813-ad81-7636feba881b",
   "metadata": {},
   "outputs": [
    {
     "name": "stdout",
     "output_type": "stream",
     "text": [
      "Matched text: Hello\n"
     ]
    }
   ],
   "source": [
    "# Text to check if it starts with \"Hello\"\n",
    "text = \"Hello world\"\n",
    "\n",
    "# Using re.match() to check the beginning of the text\n",
    "result = re.match(r\"Hello\", text)\n",
    "\n",
    "print(\"Matched text:\", result.group())"
   ]
  },
  {
   "cell_type": "markdown",
   "id": "fa8760ad-d3d5-495a-be8a-e501951aadad",
   "metadata": {},
   "source": [
    "#### 💠Checking if a text starts with a digit"
   ]
  },
  {
   "cell_type": "code",
   "execution_count": 15,
   "id": "7a4c8214-568a-49b7-a2e4-eff19285ec58",
   "metadata": {},
   "outputs": [
    {
     "name": "stdout",
     "output_type": "stream",
     "text": [
      "Matched number: 12345\n"
     ]
    }
   ],
   "source": [
    "# Text to check if it starts with a digit\n",
    "text = \"12345 is my code\"\n",
    "\n",
    "# Using re.match() to check if the text starts with one or more digits\n",
    "result = re.match(r\"\\d+\", text)\n",
    "\n",
    "# Displaying result if matched\n",
    "if result:\n",
    "    print(\"Matched number:\", result.group())  # Output: Matched number: 12345\n",
    "else:\n",
    "    print(\"No match found\")"
   ]
  },
  {
   "cell_type": "markdown",
   "id": "9b3d43d0-d5fe-4a1d-b4d6-a16f7be0cdeb",
   "metadata": {},
   "source": [
    "### 1.4. `re.findall()`: Find all occurrences of a pattern in text"
   ]
  },
  {
   "cell_type": "markdown",
   "id": "779e590e-eaf8-46bc-b4e3-aaf393fecf3f",
   "metadata": {},
   "source": [
    "#### 💠Finding all numbers in a sentence"
   ]
  },
  {
   "cell_type": "code",
   "execution_count": 18,
   "id": "45090376-8e0d-4e69-b267-7427f2b2b374",
   "metadata": {},
   "outputs": [
    {
     "name": "stdout",
     "output_type": "stream",
     "text": [
      "All numbers found: ['2', '3', '4']\n"
     ]
    }
   ],
   "source": [
    "# Text to find all numbers in\n",
    "text = \"I have 2 cats, 3 dogs, and 4 fishes\"\n",
    "\n",
    "# Using re.findall() to find all numbers\n",
    "result = re.findall(r\"\\d+\", text)\n",
    "\n",
    "# Displaying the list of found numbers\n",
    "print(\"All numbers found:\", result)\n"
   ]
  },
  {
   "cell_type": "markdown",
   "id": "dc8a246b-68e9-4c1b-9868-9b6533533eb2",
   "metadata": {},
   "source": [
    "#### 💠Finding all capitalized words"
   ]
  },
  {
   "cell_type": "code",
   "execution_count": 20,
   "id": "95fd27b7-80c2-4f9a-a918-bf0f14d6ff0f",
   "metadata": {},
   "outputs": [
    {
     "name": "stdout",
     "output_type": "stream",
     "text": [
      "All capitalized words: ['Python', 'Regex', 'Cool', 'Fun']\n"
     ]
    }
   ],
   "source": [
    "# Text to find all capitalized words\n",
    "text = \"Python Regex is Cool and Fun\"\n",
    "\n",
    "# Using re.findall() to find all words that start with uppercase letters\n",
    "result = re.findall(r\"[A-Z]\\w+\", text)\n",
    "\n",
    "# Displaying the list of found words\n",
    "print(\"All capitalized words:\", result)\n"
   ]
  },
  {
   "cell_type": "markdown",
   "id": "97c13deb-da90-4572-acff-6f93b46012ae",
   "metadata": {},
   "source": [
    "### 1.5. `re.split()`: Split text based on a specified pattern"
   ]
  },
  {
   "cell_type": "markdown",
   "id": "9286d9f5-8bbf-47a8-8fc0-19319bb6e5eb",
   "metadata": {},
   "source": [
    "#### 💠Splitting text by spaces"
   ]
  },
  {
   "cell_type": "code",
   "execution_count": 23,
   "id": "a5f87bad-79de-4b83-b904-f32e59a75183",
   "metadata": {},
   "outputs": [
    {
     "name": "stdout",
     "output_type": "stream",
     "text": [
      "Text split by spaces: ['Split', 'this', 'text', 'by', 'spaces']\n"
     ]
    }
   ],
   "source": [
    "# Text to split by spaces\n",
    "text = \"Split this text by spaces\"\n",
    "\n",
    "# Using re.split() to divide text by spaces\n",
    "result = re.split(r\"\\s+\", text)\n",
    "\n",
    "# Displaying the list of words after splitting\n",
    "print(\"Text split by spaces:\", result)"
   ]
  },
  {
   "cell_type": "markdown",
   "id": "eee6d9dd-efdc-432d-a580-188eb6d24a1e",
   "metadata": {},
   "source": [
    "#### 💠Splitting text based on punctuation"
   ]
  },
  {
   "cell_type": "code",
   "execution_count": 25,
   "id": "7139a681-72b9-4c94-8a00-b50371799432",
   "metadata": {},
   "outputs": [
    {
     "name": "stdout",
     "output_type": "stream",
     "text": [
      "Text split by punctuation: ['apple', ' orange', ' banana', ' grape']\n"
     ]
    }
   ],
   "source": [
    "# Text to split by punctuation\n",
    "text = \"apple, orange; banana: grape\"\n",
    "\n",
    "# Using re.split() to divide text by various punctuation marks\n",
    "result = re.split(r\"[,;:]\", text)\n",
    "\n",
    "# Displaying the list of words after splitting\n",
    "print(\"Text split by punctuation:\", result)"
   ]
  },
  {
   "cell_type": "markdown",
   "id": "12c03e0b-8882-42a5-b668-06ba0779474d",
   "metadata": {},
   "source": [
    "## 2. Working with basic patterns and special characters"
   ]
  },
  {
   "cell_type": "markdown",
   "id": "a7fe112a-e6f6-42da-9198-50b6c88fee73",
   "metadata": {},
   "source": [
    "### 2.1. `\\d` and `\\D`: Match digits and non-digits"
   ]
  },
  {
   "cell_type": "markdown",
   "id": "b0ee15d9-e5f2-422b-8640-b4c62a4d7f8e",
   "metadata": {},
   "source": [
    "#### 💠Finding the first number in text"
   ]
  },
  {
   "cell_type": "code",
   "execution_count": 29,
   "id": "789d27ab-bf36-4ac8-a80d-5809d1217cd5",
   "metadata": {},
   "outputs": [
    {
     "name": "stdout",
     "output_type": "stream",
     "text": [
      "Found number: 30\n"
     ]
    }
   ],
   "source": [
    "# Text to find the first number\n",
    "text = \"My age is 30\"\n",
    "\n",
    "# Using re.search() to find the first number\n",
    "result = re.search(r\"\\d+\", text)\n",
    "\n",
    "print(\"Found number:\", result.group())"
   ]
  },
  {
   "cell_type": "markdown",
   "id": "9d0d74ba-130e-460a-beea-b139e91dc643",
   "metadata": {},
   "source": [
    "#### 💠Removing all digits from text"
   ]
  },
  {
   "cell_type": "code",
   "execution_count": 31,
   "id": "0bf13253-df1c-474a-9cb5-fb19fb374fcd",
   "metadata": {},
   "outputs": [
    {
     "name": "stdout",
     "output_type": "stream",
     "text": [
      "Text without digits: Phone: --\n"
     ]
    }
   ],
   "source": [
    "# Text from which to remove digits\n",
    "text = \"Phone: 123-456-7890\"\n",
    "\n",
    "# Using re.sub() to replace digits with an empty string\n",
    "result = re.sub(r\"\\d\", \"\", text)\n",
    "\n",
    "# Displaying cleaned text\n",
    "print(\"Text without digits:\", result)"
   ]
  },
  {
   "cell_type": "markdown",
   "id": "000dfd26-1156-4795-a773-6720d2979f77",
   "metadata": {},
   "source": [
    "### 2.2. `\\w` and `\\W`: Match alphanumeric characters and non-alphanumeric characters"
   ]
  },
  {
   "cell_type": "markdown",
   "id": "14f6555d-1b3d-4ca0-819f-69248aca29df",
   "metadata": {},
   "source": [
    "#### 💠Finding the first word in text"
   ]
  },
  {
   "cell_type": "code",
   "execution_count": 34,
   "id": "9bb8c17d-75ec-40bb-943a-cfe74d4fadd1",
   "metadata": {},
   "outputs": [
    {
     "name": "stdout",
     "output_type": "stream",
     "text": [
      "First word: Python3\n"
     ]
    }
   ],
   "source": [
    "# Text to find the first word\n",
    "text = \"Python3 is great\"\n",
    "\n",
    "# Using re.search() to find the first word\n",
    "result = re.search(r\"\\w+\", text)\n",
    "\n",
    "print(\"First word:\", result.group())"
   ]
  },
  {
   "cell_type": "markdown",
   "id": "ad295dcc-cbce-4802-a016-c7ab7972fb75",
   "metadata": {},
   "source": [
    "#### 💠Removing non-word characters"
   ]
  },
  {
   "cell_type": "code",
   "execution_count": 36,
   "id": "7d4f4481-a1ad-4ab0-a4fd-1737b4c07b7f",
   "metadata": {},
   "outputs": [
    {
     "name": "stdout",
     "output_type": "stream",
     "text": [
      "Cleaned text: HelloWorld\n"
     ]
    }
   ],
   "source": [
    "# Text from which to remove non-word characters\n",
    "text = \"Hello, World!\"\n",
    "\n",
    "# Using re.sub() to remove non-word characters\n",
    "result = re.sub(r\"\\W\", \"\", text)\n",
    "\n",
    "# Displaying cleaned text\n",
    "print(\"Cleaned text:\", result)"
   ]
  },
  {
   "cell_type": "markdown",
   "id": "0c6873d6-5dca-4289-a287-e520addd9ab6",
   "metadata": {},
   "source": [
    "<div style=\"background-color: #dafbe1; border-left: 5px solid #34c759; padding: 10px;\">\r\n",
    "<code>\\w</code>: Matches word characters, including letters, digits, and the underscore (_).<br><br>\r\n",
    "<code>\\W</code>: Matches non-word characters, such as punctuation marks and spaces.\r\n",
    "</dv>\r\n"
   ]
  },
  {
   "cell_type": "code",
   "execution_count": null,
   "id": "1ff9d84f-cbe5-4c7c-aa51-f3490a0241f7",
   "metadata": {},
   "outputs": [],
   "source": []
  },
  {
   "cell_type": "markdown",
   "id": "592e97fe-7294-4667-bcda-d48bbd88707e",
   "metadata": {},
   "source": [
    "### 2.3. `\\s` and `\\S`: Match whitespace and non-whitespace characters"
   ]
  },
  {
   "cell_type": "markdown",
   "id": "0d753d74-3011-4959-9d4a-9c292a8492eb",
   "metadata": {},
   "source": [
    "#### 💠Replacing spaces with underscores"
   ]
  },
  {
   "cell_type": "code",
   "execution_count": 40,
   "id": "1c725e2e-6896-40ff-8f1c-c9f1d062aa2e",
   "metadata": {},
   "outputs": [
    {
     "name": "stdout",
     "output_type": "stream",
     "text": [
      "Text with underscores: Replace_spaces_with_underscores\n"
     ]
    }
   ],
   "source": [
    "# Text where spaces need to be replaced with underscores\n",
    "text = \"Replace spaces with underscores\"\n",
    "\n",
    "# Using re.sub() to replace spaces with underscores\n",
    "result = re.sub(r\"\\s\", \"_\", text)\n",
    "\n",
    "# Displaying modified text\n",
    "print(\"Text with underscores:\", result)"
   ]
  },
  {
   "cell_type": "markdown",
   "id": "ac09fbd2-a055-4962-a095-8dbb57d9ee44",
   "metadata": {},
   "source": [
    "#### 💠Removing all spaces from text"
   ]
  },
  {
   "cell_type": "code",
   "execution_count": 42,
   "id": "cf7a3636-6bfe-41ed-ad8b-a42b7cd424e6",
   "metadata": {},
   "outputs": [
    {
     "name": "stdout",
     "output_type": "stream",
     "text": [
      "Text without spaces: Removeallspaces\n"
     ]
    }
   ],
   "source": [
    "# Text from which to remove all spaces\n",
    "text = \"Remove all spaces\"\n",
    "\n",
    "# Using re.sub() to remove spaces\n",
    "result = re.sub(r\"\\s\", \"\", text)\n",
    "\n",
    "# Displaying cleaned text\n",
    "print(\"Text without spaces:\", result)"
   ]
  },
  {
   "cell_type": "markdown",
   "id": "5b34e351-b237-4eaa-a6bf-1439b1c0eef2",
   "metadata": {},
   "source": [
    "<div style=\"background-color: #dafbe1; border-left: 5px solid #34c759; padding: 10px;\">\n",
    "<code>\\s</code>: Matches whitespace characters, such as spaces, tabs, and newlines.<br><br>\n",
    "<code>\\S</code>: Matches any character that is not a whitespace character.\n",
    "</div>"
   ]
  },
  {
   "cell_type": "markdown",
   "id": "1bb9ddb3-d52a-47b8-96e2-5816181a3a54",
   "metadata": {},
   "source": [
    "## 3. Repeat characters and simple searches"
   ]
  },
  {
   "cell_type": "markdown",
   "id": "bda51bc2-ec6d-4750-9982-3a8fc9a636a7",
   "metadata": {},
   "source": [
    "### 3.1 `+`, `*`, `?`: Repeat characters"
   ]
  },
  {
   "cell_type": "markdown",
   "id": "d3b8f304-86b7-4f14-92a4-d9e6d3d0d690",
   "metadata": {},
   "source": [
    "<div style=\"background-color: #dafbe1; border-left: 5px solid #34c759; padding: 10px;\">\r\n",
    "<code>+</code>: Matches one or more occurrences.<br>\r\n",
    "<code>*</code>: Matches zero or more occurrences.<br>\r\n",
    "<code>?</code>: Matches zero or one occurrence.\r\n",
    "</iv>\r\n"
   ]
  },
  {
   "cell_type": "markdown",
   "id": "c76ba48b-864f-4372-84e9-93075b67fff0",
   "metadata": {},
   "source": [
    "#### 💠Finding decimal numbers in text"
   ]
  },
  {
   "cell_type": "code",
   "execution_count": 48,
   "id": "60582254-9aaa-4e94-95bb-9676d8fe8d62",
   "metadata": {},
   "outputs": [
    {
     "name": "stdout",
     "output_type": "stream",
     "text": [
      "Decimal numbers: ['2.0', '3.1']\n"
     ]
    }
   ],
   "source": [
    "# Text to find all decimal numbers in\n",
    "text = \"Version 2.0 and 3.1 are stable\"\n",
    "\n",
    "# Using re.findall() to find all decimal numbers\n",
    "result = re.findall(r\"\\d+\\.\\d+\", text)\n",
    "\n",
    "# Displaying all found decimal numbers\n",
    "print(\"Decimal numbers:\", result)"
   ]
  },
  {
   "cell_type": "markdown",
   "id": "aa123ff1-8d97-41b6-ac43-a2a09a7f01dd",
   "metadata": {},
   "source": [
    "#### 💠Matching possible email addresses"
   ]
  },
  {
   "cell_type": "code",
   "execution_count": 50,
   "id": "f3e66d1c-b489-4e01-96c3-f2210f5c6368",
   "metadata": {},
   "outputs": [
    {
     "name": "stdout",
     "output_type": "stream",
     "text": [
      "Email addresses: ['example@example.com', 'test@test.com']\n"
     ]
    }
   ],
   "source": [
    "# Text to find email addresses in\n",
    "text = \"Contact: example@example.com or test@test.com\"\n",
    "\n",
    "# Using re.findall() to find email addresses\n",
    "result = re.findall(r\"\\w+@\\w+\\.\\w+\", text)\n",
    "\n",
    "# Displaying all found email addresses\n",
    "print(\"Email addresses:\", result)"
   ]
  },
  {
   "cell_type": "markdown",
   "id": "08a6c72b-987f-4a51-92a4-0039e82ef719",
   "metadata": {},
   "source": [
    "### 3.2. `{n}` and `{n, m}`: Specify exact or range of repetitions"
   ]
  },
  {
   "cell_type": "markdown",
   "id": "8e1c5e65-1216-4563-a513-bcc9982819d9",
   "metadata": {},
   "source": [
    "<div style=\"background-color: #dafbe1; border-left: 5px solid #34c759; padding: 10px;\">\r\n",
    "<code>{n}</code>: Matches exactly <code>n</code> occurrences.<br>\r\n",
    "<code>{n, m}</code>: Matches between <code>n</code> and <code>m</code> occurrences.\r\n",
    "</div>\r\n"
   ]
  },
  {
   "cell_type": "markdown",
   "id": "941a7943-5f5b-4140-83f7-6baa9f831ad1",
   "metadata": {},
   "source": [
    "#### 💠Finding a five-digit zip code"
   ]
  },
  {
   "cell_type": "code",
   "execution_count": 54,
   "id": "6b15d46a-c8cc-4f5c-ac1b-bbbe4f9d15b9",
   "metadata": {},
   "outputs": [
    {
     "name": "stdout",
     "output_type": "stream",
     "text": [
      "Zip code: 12345\n"
     ]
    }
   ],
   "source": [
    "# Text where we want to find a five-digit zip code\n",
    "text = \"My zip code is 12345\"\n",
    "\n",
    "# Using re.search() to find a five-digit number\n",
    "result = re.search(r\"\\b\\d{5}\\b\", text)\n",
    "\n",
    "print(\"Zip code:\", result.group())"
   ]
  },
  {
   "cell_type": "markdown",
   "id": "48ed0ea6-72b7-4f81-b3f2-43dc24b68d31",
   "metadata": {},
   "source": [
    "#### 💠Finding phone numbers in specific format"
   ]
  },
  {
   "cell_type": "code",
   "execution_count": 56,
   "id": "97130e45-e3c3-437d-9b2a-cd0a8bc11b5b",
   "metadata": {},
   "outputs": [
    {
     "name": "stdout",
     "output_type": "stream",
     "text": [
      "Phone numbers: ['123-456-7890', '987-654-3210']\n"
     ]
    }
   ],
   "source": [
    "# Text to find phone numbers in the format 123-456-7890\n",
    "text = \"Contact me at 123-456-7890 or 987-654-3210\"\n",
    "\n",
    "# Using re.findall() to find phone numbers\n",
    "result = re.findall(r\"\\d{3}-\\d{3}-\\d{4}\", text)\n",
    "\n",
    "# Displaying all found phone numbers\n",
    "print(\"Phone numbers:\", result)"
   ]
  },
  {
   "cell_type": "code",
   "execution_count": null,
   "id": "5f8c52af-fb2a-47a5-af3e-e7a80a1e028f",
   "metadata": {},
   "outputs": [],
   "source": []
  }
 ],
 "metadata": {
  "kernelspec": {
   "display_name": "Python 3 (ipykernel)",
   "language": "python",
   "name": "python3"
  },
  "language_info": {
   "codemirror_mode": {
    "name": "ipython",
    "version": 3
   },
   "file_extension": ".py",
   "mimetype": "text/x-python",
   "name": "python",
   "nbconvert_exporter": "python",
   "pygments_lexer": "ipython3",
   "version": "3.11.7"
  }
 },
 "nbformat": 4,
 "nbformat_minor": 5
}
