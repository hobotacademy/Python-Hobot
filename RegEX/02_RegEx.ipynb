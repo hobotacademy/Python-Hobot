{
 "cells": [
  {
   "cell_type": "markdown",
   "id": "43277d64-cf7c-4e0c-9d60-3c7aaf0c5d57",
   "metadata": {},
   "source": [
    "<div style=\"text-align: center;\">\n",
    "    <img src=\"https://media.licdn.com/dms/image/v2/D4E0BAQE4bCQaEBYDUQ/company-logo_200_200/company-logo_200_200/0/1728590235264/hobotacademy_logo?e=1738195200&v=beta&t=0DiMS1wnJYE6nkBjL237Lh3mTm8GKEy_s65hG_yiTSs\" alt=\"Hobot Academy Logo\" width=\"200\"/>\n",
    "</div>\n",
    "\n",
    "<h1 style=\"text-align: center;\">Python</h1>\n",
    "<h2 style=\"text-align: center;\">RegEX, Text Preprocessing</h2>\n",
    "<h3 style=\"text-align: center;\">Part02</h3>\n",
    "<h3 style=\"text-align: center;\">Zahra Amini</h3>\n",
    "\n",
    "<div style=\"width: 100%; text-align: center;\">\n",
    "    <table style=\"margin: 0 auto;\">\n",
    "        <tr>\n",
    "            <td>\n",
    "                <a href=\"https://t.me/hobotacademy\">Telegram</a><br>\n",
    "                <a href=\"https://www.linkedin.com/company/hobotacademy\">LinkedIn</a><br>\n",
    "                <a href=\"https://www.youtube.com/@AcademyHobot\">YouTube</a><br>\n",
    "            </td>\n",
    "            <td>\n",
    "                <a href=\"https://github.com/hobotacademy\">GitHub</a><br>\n",
    "                <a href=\"https://www.kaggle.com/aminizahra\">Kaggle</a><br>\n",
    "                <a href=\"https://www.instagram.com/hobot.academy/\">Instagram</a><br>\n",
    "            </td>\n",
    "        </t>\n",
    "    </table>\n",
    "</div>\n",
    "    </table>\n",
    "</div>\n",
    "    </table>\n",
    "</div>"
   ]
  },
  {
   "cell_type": "markdown",
   "id": "b575b1f6-4ec2-40d1-ac19-6a9dfcf3b014",
   "metadata": {},
   "source": [
    "## 4. Grouping and Subgroups"
   ]
  },
  {
   "cell_type": "markdown",
   "id": "e5aac203-5e2f-4ed0-8a2d-a92dd439d846",
   "metadata": {},
   "source": [
    "### 4.1. `()` and `(?: ...)`: Grouping with and without capturing"
   ]
  },
  {
   "cell_type": "markdown",
   "id": "2e6ca8a4-35c6-442f-b5be-83d60b30a2d9",
   "metadata": {},
   "source": [
    "<div style=\"background-color: #dafbe1; border-left: 5px solid #34c759; padding: 10px;\">\r\n",
    "<code>(...)</code>: Groups with match capturing, storing the matched result.<br>\r\n",
    "<code>(?:...)</code>: Groups without capturing, used when the result does not need to be stored.\r\n",
    "</div>\r\n"
   ]
  },
  {
   "cell_type": "markdown",
   "id": "c61e5e58-6c20-4d62-96a6-4ff0eea55d8f",
   "metadata": {},
   "source": [
    "#### 💠Grouping to capture area code in a phone number"
   ]
  },
  {
   "cell_type": "code",
   "execution_count": 61,
   "id": "3acaeb3c-0346-47ab-8095-1ffb0649c59e",
   "metadata": {},
   "outputs": [
    {
     "name": "stdout",
     "output_type": "stream",
     "text": [
      "Area code: 123\n"
     ]
    }
   ],
   "source": [
    "# Text with phone numbers\n",
    "text = \"My number is (123) 456-7890\"\n",
    "\n",
    "# Using parentheses to capture area code separately\n",
    "result = re.search(r\"\\((\\d{3})\\) \\d{3}-\\d{4}\", text)\n",
    "\n",
    "# Displaying the area code if matched\n",
    "if result:\n",
    "    print(\"Area code:\", result.group(1))  # Output: Area code: 123\n",
    "else:\n",
    "    print(\"No match found\")\n"
   ]
  },
  {
   "cell_type": "markdown",
   "id": "d4dd7c63-0928-4702-ad55-1e8af3712b0b",
   "metadata": {},
   "source": [
    "<div style=\"background-color: #dafbe1; border-left: 5px solid #34c759; padding: 10px;\">\r\n",
    "<code>\\((\\d{3})\\)</code>: Uses parentheses to capture the area code as a separate group.\r\n",
    "</div>\r\n"
   ]
  },
  {
   "cell_type": "markdown",
   "id": "d6dd7f78-5780-4713-b8f0-2b10aaac57eb",
   "metadata": {},
   "source": [
    "#### 💠Non-capturing group for pattern grouping without capturing"
   ]
  },
  {
   "cell_type": "code",
   "execution_count": 64,
   "id": "27d830b7-c39e-455c-8866-c20f222ea641",
   "metadata": {},
   "outputs": [
    {
     "name": "stdout",
     "output_type": "stream",
     "text": [
      "Animals found: ['cat', 'dog']\n"
     ]
    }
   ],
   "source": [
    "# Text where we want to find either \"cat\" or \"dog\"\n",
    "text = \"I have a cat and a dog.\"\n",
    "\n",
    "# Using a non-capturing group for alternatives\n",
    "result = re.findall(r\"(?:cat|dog)\", text)\n",
    "\n",
    "# Displaying the list of matched animals\n",
    "print(\"Animals found:\", result)  # Output: ['cat', 'dog']"
   ]
  },
  {
   "cell_type": "markdown",
   "id": "b4886b9b-0af0-4fcc-a604-7ee7c675ec58",
   "metadata": {},
   "source": [
    "### 4.2. Using `group()` and `groups()` to access grouped results"
   ]
  },
  {
   "cell_type": "markdown",
   "id": "460fe9c9-e010-4423-942f-cccb18f3fce8",
   "metadata": {},
   "source": [
    "<div style=\"background-color: #dafbe1; border-left: 5px solid #34c759; padding: 10px;\">\r\n",
    "<code>group()</code>: Accesses the entire match.<br>\r\n",
    "<code>groups()</code>: Accesses all captured groups as a tuple.\r\n",
    "</div>\r\n"
   ]
  },
  {
   "cell_type": "markdown",
   "id": "7ea5ceca-1db0-4ac1-ae1c-b753ce180953",
   "metadata": {},
   "source": [
    "#### 💠Extracting name and domain from an email address"
   ]
  },
  {
   "cell_type": "code",
   "execution_count": 68,
   "id": "a8281602-d0d3-4690-93d8-4c9c1b38d7fb",
   "metadata": {},
   "outputs": [
    {
     "name": "stdout",
     "output_type": "stream",
     "text": [
      "Username: user\n",
      "Domain: example.com\n"
     ]
    }
   ],
   "source": [
    "# Email to extract name and domain from\n",
    "email = \"user@example.com\"\n",
    "\n",
    "# Using groups to capture both parts of the email\n",
    "result = re.search(r\"(\\w+)@(\\w+\\.\\w+)\", email)\n",
    "\n",
    "print(\"Username:\", result.group(1))  # Output: Username: user\n",
    "print(\"Domain:\", result.group(2))    # Output: Domain: example.com"
   ]
  },
  {
   "cell_type": "markdown",
   "id": "8e062547-3781-4e2e-b372-cead100e3d5e",
   "metadata": {},
   "source": [
    "#### 💠Extracting date components using groups"
   ]
  },
  {
   "cell_type": "code",
   "execution_count": 70,
   "id": "a870b58f-735d-44f7-b586-eaa145ff502a",
   "metadata": {},
   "outputs": [
    {
     "name": "stdout",
     "output_type": "stream",
     "text": [
      "Year: 2023\n",
      "Month: 10\n",
      "Day: 28\n"
     ]
    }
   ],
   "source": [
    "# Date in YYYY-MM-DD format\n",
    "date = \"2023-10-28\"\n",
    "\n",
    "# Using groups to capture year, month, and day\n",
    "result = re.search(r\"(\\d{4})-(\\d{2})-(\\d{2})\", date)\n",
    "\n",
    "print(\"Year:\", result.group(1))   # Output: Year: 2023\n",
    "print(\"Month:\", result.group(2))  # Output: Month: 10\n",
    "print(\"Day:\", result.group(3)) "
   ]
  },
  {
   "cell_type": "markdown",
   "id": "173704d3-a005-4bb5-9af5-6d15642e8223",
   "metadata": {},
   "source": [
    "## 5. Working with Substitution and Pattern Replacement"
   ]
  },
  {
   "cell_type": "markdown",
   "id": "f5d9f165-d2de-4e22-9d39-f0e372a5d370",
   "metadata": {},
   "source": [
    "### 5.1. `re.sub()`: Replace a pattern with another text"
   ]
  },
  {
   "cell_type": "markdown",
   "id": "9a1eea14-6529-4031-bc80-ccc294126182",
   "metadata": {},
   "source": [
    "#### 💠Replacing all digits with an asterisk"
   ]
  },
  {
   "cell_type": "code",
   "execution_count": 74,
   "id": "ee340dc4-da6e-467a-856f-c50a538335b0",
   "metadata": {},
   "outputs": [
    {
     "name": "stdout",
     "output_type": "stream",
     "text": [
      "Text after replacement: Phone: ***-***-****\n"
     ]
    }
   ],
   "source": [
    "# Text with numbers to be replaced\n",
    "text = \"Phone: 123-456-7890\"\n",
    "\n",
    "# Using re.sub() to replace digits with '*'\n",
    "result = re.sub(r\"\\d\", \"*\", text)\n",
    "\n",
    "# Displaying modified text\n",
    "print(\"Text after replacement:\", result)  # Output: Phone: ***-***-****\n"
   ]
  },
  {
   "cell_type": "markdown",
   "id": "cbc82a76-f6b8-4b3f-9ac4-1751ad02476d",
   "metadata": {},
   "source": [
    "#### 💠Replacing email domains to anonymize email addresses"
   ]
  },
  {
   "cell_type": "code",
   "execution_count": 76,
   "id": "2d900903-7e33-4638-9d15-f84f07cb295f",
   "metadata": {},
   "outputs": [
    {
     "name": "stdout",
     "output_type": "stream",
     "text": [
      "Anonymized emails: Emails: alice@hidden.com, bob@hidden.com\n"
     ]
    }
   ],
   "source": [
    "# Text with email addresses\n",
    "text = \"Emails: alice@example.com, bob@test.com\"\n",
    "\n",
    "# Using re.sub() to replace domains with 'hidden.com'\n",
    "result = re.sub(r\"@\\w+\\.\\w+\", \"@hidden.com\", text)\n",
    "\n",
    "# Displaying modified text\n",
    "print(\"Anonymized emails:\", result)  # Output: Emails: alice@hidden.com, bob@hidden.com"
   ]
  },
  {
   "cell_type": "markdown",
   "id": "c8bee165-a716-4e0c-ae53-34bdbcd4ecd7",
   "metadata": {},
   "source": [
    "### 5.2. re.subn(): Similar to sub() but returns the count of replacements"
   ]
  },
  {
   "cell_type": "markdown",
   "id": "7bec9c5d-a8db-432a-99fc-4b746a175ce4",
   "metadata": {},
   "source": [
    "<div style=\"background-color: #dafbe1; border-left: 5px solid #34c759; padding: 10px;\">\r\n",
    "<code>re.subn()</code>: Functions like <code>re.sub()</code>, but also returns the number of substitutions made.\r\n",
    "</div>\r\n"
   ]
  },
  {
   "cell_type": "markdown",
   "id": "c5981162-988c-49ac-b614-726c5c788db4",
   "metadata": {},
   "source": [
    "#### 💠Replacing spaces with underscores and counting replacements"
   ]
  },
  {
   "cell_type": "code",
   "execution_count": 80,
   "id": "29414edf-6aff-4aeb-bd83-b111893e7d62",
   "metadata": {},
   "outputs": [
    {
     "name": "stdout",
     "output_type": "stream",
     "text": [
      "Modified text: Convert_spaces_to_underscores\n",
      "Number of replacements: 3\n"
     ]
    }
   ],
   "source": [
    "# Text with spaces to replace\n",
    "text = \"Convert spaces to underscores\"\n",
    "\n",
    "# Using re.subn() to replace spaces with underscores\n",
    "result, count = re.subn(r\"\\s\", \"_\", text)\n",
    "\n",
    "# Displaying modified text and count of replacements\n",
    "print(\"Modified text:\", result)     # Output: Convert_spaces_to_underscores\n",
    "print(\"Number of replacements:\", count)  # Output: Number of replacements: 3\n"
   ]
  },
  {
   "cell_type": "markdown",
   "id": "8eb135f9-5016-487f-9921-f783a8d6d98c",
   "metadata": {},
   "source": [
    "#### 💠Removing vowels and counting occurrences"
   ]
  },
  {
   "cell_type": "code",
   "execution_count": 82,
   "id": "3a91c58c-fcd8-49da-b5b2-615db334853b",
   "metadata": {},
   "outputs": [
    {
     "name": "stdout",
     "output_type": "stream",
     "text": [
      "Text without vowels: Rmv vwls frm ths txt\n",
      "Number of vowels removed: 8\n"
     ]
    }
   ],
   "source": [
    "# Text with vowels to remove\n",
    "text = \"Remove vowels from this text\"\n",
    "\n",
    "# Using re.subn() to remove vowels\n",
    "result, count = re.subn(r\"[aeiouAEIOU]\", \"\", text)\n",
    "\n",
    "# Displaying modified text and count of vowels removed\n",
    "print(\"Text without vowels:\", result)  # Output: Rmv vwls frm ths txt\n",
    "print(\"Number of vowels removed:\", count)  # Output: Number of vowels removed: 8\n"
   ]
  },
  {
   "cell_type": "markdown",
   "id": "1799d5be-d9e6-4386-a5e9-59f0dbc21611",
   "metadata": {},
   "source": [
    "## 6. Start and End of Line or Text"
   ]
  },
  {
   "cell_type": "markdown",
   "id": "3a265999-fc14-4eed-9da5-8f46c2dbaca3",
   "metadata": {},
   "source": [
    "### 6.1. `^` and `$`: Match the start and end of a line"
   ]
  },
  {
   "cell_type": "markdown",
   "id": "09d3e61c-e2f0-4c73-95cd-93fa4b2225bc",
   "metadata": {},
   "source": [
    "<div style=\"background-color: #dafbe1; border-left: 5px solid #34c759; padding: 10px;\">\n",
    "<code>^</code>: Matches the start of a line.<br>\n",
    "<code>$</code>: Matches the end of a line.\n",
    "</div>"
   ]
  },
  {
   "cell_type": "markdown",
   "id": "ee3942c0-b364-4492-9b1a-79e89aeb7386",
   "metadata": {},
   "source": [
    "#### 💠Checking if a line starts with a specific word"
   ]
  },
  {
   "cell_type": "code",
   "execution_count": 87,
   "id": "f8c4f230-c1dd-450d-bcb0-d7d6d88ddf4e",
   "metadata": {},
   "outputs": [
    {
     "name": "stdout",
     "output_type": "stream",
     "text": [
      "<re.Match object; span=(0, 5), match='Hello'>\n",
      "Starts with 'Hello'\n"
     ]
    }
   ],
   "source": [
    "# Text to check if it starts with \"Hello\"\n",
    "text = \"Hello there\"\n",
    "\n",
    "# Using re.search() with ^ to check the beginning of the line\n",
    "result = re.search(r\"^Hello\", text)\n",
    "\n",
    "print(result)\n",
    "\n",
    "if result:\n",
    "    print(\"Starts with 'Hello'\")  # Output: Starts with 'Hello'\n",
    "else:\n",
    "    print(\"Does not start with 'Hello'\")"
   ]
  },
  {
   "cell_type": "markdown",
   "id": "c5b78376-e960-4f61-8265-243bc4fe4c3a",
   "metadata": {},
   "source": [
    "#### 💠Checking if a line ends with a specific pattern"
   ]
  },
  {
   "cell_type": "code",
   "execution_count": 89,
   "id": "f47c4f07-3e22-4bc0-bed7-62371f9f6ff2",
   "metadata": {},
   "outputs": [
    {
     "name": "stdout",
     "output_type": "stream",
     "text": [
      "Ends with 'done.'\n"
     ]
    }
   ],
   "source": [
    "# Text to check if it ends with \"done.\"\n",
    "text = \"The process is now done.\"\n",
    "\n",
    "# Using re.search() with $ to check the end of the line\n",
    "result = re.search(r\"done\\.$\", text)\n",
    "\n",
    "# Displaying result if matched\n",
    "if result:\n",
    "    print(\"Ends with 'done.'\")  # Output: Ends with 'done.'\n",
    "else:\n",
    "    print(\"Does not end with 'done.'\")"
   ]
  },
  {
   "cell_type": "markdown",
   "id": "f4bb3c1e-d981-49ff-9a52-bf9a640f8085",
   "metadata": {},
   "source": [
    "### 6.2. `\\A` and `\\Z`: Match the start and end of the entire text"
   ]
  },
  {
   "cell_type": "markdown",
   "id": "ff61806d-1e19-4f05-b688-3b8e0224c0cb",
   "metadata": {},
   "source": [
    "<div style=\"background-color: #dafbe1; border-left: 5px solid #34c759; padding: 10px;\">\r\n",
    "<code>\\A</code>: Matches the beginning of the entire text.<br>\r\n",
    "<code>\\Z</code>: Matches the end of the entire text.\r\n",
    "</dv>\r\n"
   ]
  },
  {
   "cell_type": "markdown",
   "id": "dbdcbfe1-37bd-4272-b487-9e1d84d56a19",
   "metadata": {},
   "source": [
    "#### 💠Checking if text starts with a specific pattern (entire text)"
   ]
  },
  {
   "cell_type": "code",
   "execution_count": 93,
   "id": "f537571f-47dd-4893-97a9-92be07620c74",
   "metadata": {},
   "outputs": [
    {
     "name": "stdout",
     "output_type": "stream",
     "text": [
      "Text starts with 'Start'\n"
     ]
    }
   ],
   "source": [
    "# Full text to check\n",
    "text = \"Start of text here\"\n",
    "\n",
    "# Using re.search() with \\A to check if text starts with \"Start\"\n",
    "result = re.search(r\"\\AStart\", text)\n",
    "\n",
    "# Displaying result if matched\n",
    "if result:\n",
    "    print(\"Text starts with 'Start'\")  # Output: Text starts with 'Start'\n",
    "else:\n",
    "    print(\"Text does not start with 'Start'\")\n"
   ]
  },
  {
   "cell_type": "markdown",
   "id": "9ef8ab68-47c1-4369-939a-48db7551f77b",
   "metadata": {},
   "source": [
    "#### 💠Checking if text ends with a period"
   ]
  },
  {
   "cell_type": "code",
   "execution_count": 95,
   "id": "bbc5a001-eed4-4af5-a211-a1018c1c8fac",
   "metadata": {},
   "outputs": [
    {
     "name": "stdout",
     "output_type": "stream",
     "text": [
      "Text ends with a period\n"
     ]
    }
   ],
   "source": [
    "# Full text to check\n",
    "text = \"This is a complete sentence.\"\n",
    "\n",
    "# Using re.search() with \\Z to check if text ends with a period\n",
    "result = re.search(r\"\\.$\", text)\n",
    "\n",
    "# Displaying result if matched\n",
    "if result:\n",
    "    print(\"Text ends with a period\")  # Output: Text ends with a period\n",
    "else:\n",
    "    print(\"Text does not end with a period\")\n"
   ]
  }
 ],
 "metadata": {
  "kernelspec": {
   "display_name": "Python 3 (ipykernel)",
   "language": "python",
   "name": "python3"
  },
  "language_info": {
   "codemirror_mode": {
    "name": "ipython",
    "version": 3
   },
   "file_extension": ".py",
   "mimetype": "text/x-python",
   "name": "python",
   "nbconvert_exporter": "python",
   "pygments_lexer": "ipython3",
   "version": "3.11.7"
  }
 },
 "nbformat": 4,
 "nbformat_minor": 5
}
